{
 "cells": [
  {
   "cell_type": "code",
   "execution_count": null,
   "id": "bcdb140d-cba8-4c65-b559-5c9f8299e7e1",
   "metadata": {},
   "outputs": [],
   "source": []
  }
 ],
 "metadata": {
  "kernelspec": {
   "display_name": "",
   "name": ""
  },
  "language_info": {
   "name": ""
  }
 },
 "nbformat": 4,
 "nbformat_minor": 5
}
